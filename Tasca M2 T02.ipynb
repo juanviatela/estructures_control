{
 "cells": [
  {
   "cell_type": "markdown",
   "id": "3aa0f7a7",
   "metadata": {},
   "source": [
    "# Tasca M2 T02"
   ]
  },
  {
   "cell_type": "markdown",
   "id": "28b5081d",
   "metadata": {},
   "source": [
    "## Exercici 1 \n",
    "\n",
    "L'exercici consisteix a crear una funció que et classifiqui una variable numèrica en funció de l’escala Suspès/Aprovat/Notable/Excel·lent."
   ]
  },
  {
   "cell_type": "code",
   "execution_count": 80,
   "id": "e5ce1ee2",
   "metadata": {},
   "outputs": [
    {
     "name": "stdout",
     "output_type": "stream",
     "text": [
      "¿Qué nota obtuviste? 4\n",
      "Has suspendido. Lo siento\n"
     ]
    }
   ],
   "source": [
    "def nota(x):\n",
    "    if x >= 5 and x < 7 : \n",
    "        print(\"Has conseguido un aprobado. Felicitaciones\")\n",
    "    \n",
    "    elif x >= 7 and x < 9:\n",
    "        print(\"Has conseguido un notable. Felicitaciones\")\n",
    "\n",
    "    elif x >= 9: \n",
    "        print(\"Has conseguido un excelente. Felicitaciones\")\n",
    "\n",
    "    else : \n",
    "        print(\"Has suspendido. Lo siento\")\n",
    "\n",
    "tu_nota = int(input(\"¿Qué nota obtuviste? \"))        \n",
    "nota(tu_nota)"
   ]
  },
  {
   "cell_type": "markdown",
   "id": "5665c3f0",
   "metadata": {},
   "source": [
    "## Exercici 2\n",
    "\n",
    "Crea una funció que et pregunti dos números. T’ha de mostrar un missatge dient si el primer és més gran, el segon és més gran o són iguals.\n",
    "\n"
   ]
  },
  {
   "cell_type": "code",
   "execution_count": 82,
   "id": "b10178c8",
   "metadata": {},
   "outputs": [
    {
     "name": "stdout",
     "output_type": "stream",
     "text": [
      "Dime un número: 5\n",
      "Dime otro número: 6\n",
      "5 es menor que 6\n"
     ]
    }
   ],
   "source": [
    "def comparacion(x,y):\n",
    "    if x > y:\n",
    "        print (\"{} es mayor que {}\".format(x,y)) \n",
    "    \n",
    "    elif x < y: \n",
    "        print (\"{} es menor que {}\".format(x,y))\n",
    "\n",
    "    else: \n",
    "        print (\"{} es igual que {}\".format(x,y)) \n",
    "        \n",
    "x = int(input(\"Dime un número: \"))\n",
    "y = int(input(\"Dime otro número: \"))\n",
    "        \n",
    "comparacion(x,y)"
   ]
  },
  {
   "cell_type": "markdown",
   "id": "6c91af9a",
   "metadata": {},
   "source": [
    "## Exercici 3\n",
    "\n",
    "Crea una funció que et pregunti el teu nom, i et demani un número. Si el número és 0, hauria de mostrar un missatge d’error. En cas contrari, hauria de mostrar el nom repetit tants cops com indiqui el número. Per exemple, “Joan Joan Joan”."
   ]
  },
  {
   "cell_type": "code",
   "execution_count": 83,
   "id": "ecd8c8c0",
   "metadata": {},
   "outputs": [
    {
     "name": "stdout",
     "output_type": "stream",
     "text": [
      "Dime tu nombre: Juan \n",
      "Ahora dime un número: 5\n",
      "Juan Juan Juan Juan Juan \n"
     ]
    }
   ],
   "source": [
    "def tu_nombre(x,y):\n",
    "    if y == 0: \n",
    "        print(\"Fallaste =( ¡Vuelve a intentarlo!\")\n",
    "    else:\n",
    "        print(x * y)\n",
    "        \n",
    "x = input (\"Dime tu nombre: \")\n",
    "y = int(input (\"Ahora dime un número: \"))\n",
    "        \n",
    "tu_nombre(x,y)"
   ]
  },
  {
   "cell_type": "markdown",
   "id": "26418834",
   "metadata": {},
   "source": [
    "## Exercici 4\n",
    "\n",
    "Crea una funció que donada una llista qualsevol, et digui si és simètrica o no. Si ho és, que et digui quants elements té."
   ]
  },
  {
   "cell_type": "code",
   "execution_count": 90,
   "id": "8b3cd3a3",
   "metadata": {},
   "outputs": [
    {
     "name": "stdout",
     "output_type": "stream",
     "text": [
      "Lista 1: 7\n",
      "Lista 2: No es simétrica\n"
     ]
    }
   ],
   "source": [
    "def comparacion_simetria(lista):\n",
    "    return lista == list(reversed(lista))\n",
    "# Para invertir la lista también puedo utilizar llista[::-1]. Funcionan igual\n",
    "\n",
    "def contar_lista(lista):\n",
    "    if comparacion_simetria(lista):\n",
    "        return len(lista)  \n",
    "    else:\n",
    "        return \"No es simétrica\"\n",
    "\n",
    "\n",
    "Lista1 = [1, 2, 3, 4, 3, 2, 1]\n",
    "Lista2 = [8, 4, 6, 9, 3]\n",
    "\n",
    "resultado1 = contar_lista(Lista1)\n",
    "resultado2 = contar_lista(Lista2)\n",
    "\n",
    "print(\"Lista 1:\", resultado1)\n",
    "print(\"Lista 2:\", resultado2)"
   ]
  },
  {
   "cell_type": "markdown",
   "id": "7a9ce1f1",
   "metadata": {},
   "source": [
    "## Exercici 5\n",
    "\n",
    "Crea una funció que donada una llista, et digui quants números coincideixen amb la seva posició. "
   ]
  },
  {
   "cell_type": "code",
   "execution_count": 78,
   "id": "840f54f8",
   "metadata": {},
   "outputs": [
    {
     "name": "stdout",
     "output_type": "stream",
     "text": [
      "Lista: [0, 2, 5, 3, 4, 9, 6, 8, 7, 1]\n",
      "Número de números que coinciden con su posición: 4\n"
     ]
    }
   ],
   "source": [
    "import random\n",
    "\n",
    "exercici_5 = random.sample(range(10), 10)\n",
    "\n",
    "def coincide_posicion(lista):\n",
    "    lista_coincidentes = 0\n",
    "    \n",
    "    for i in range(len(lista)):\n",
    "        if lista[i] == i:\n",
    "            lista_coincidentes += 1\n",
    "    \n",
    "    return lista_coincidentes\n",
    "\n",
    "resultado = coincide_posicion(exercici_5)\n",
    "print(\"Lista:\", exercici_5)\n",
    "print(\"Número de números que coinciden con su posición:\", resultado)"
   ]
  }
 ],
 "metadata": {
  "kernelspec": {
   "display_name": "Python 3 (ipykernel)",
   "language": "python",
   "name": "python3"
  },
  "language_info": {
   "codemirror_mode": {
    "name": "ipython",
    "version": 3
   },
   "file_extension": ".py",
   "mimetype": "text/x-python",
   "name": "python",
   "nbconvert_exporter": "python",
   "pygments_lexer": "ipython3",
   "version": "3.10.9"
  }
 },
 "nbformat": 4,
 "nbformat_minor": 5
}
